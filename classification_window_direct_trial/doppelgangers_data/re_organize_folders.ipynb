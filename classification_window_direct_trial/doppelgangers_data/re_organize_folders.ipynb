{
 "cells": [
  {
   "cell_type": "code",
   "execution_count": 1,
   "metadata": {},
   "outputs": [],
   "source": [
    "import os\n",
    "import shutil\n",
    "\n",
    "def organize_images(source_folder, destination_folder):\n",
    "    # Create the destination folder if it doesn't exist\n",
    "    if not os.path.exists(destination_folder):\n",
    "        os.makedirs(destination_folder)\n",
    "\n",
    "    def dfs_search_and_copy(current_folder, relative_path=\"\"):\n",
    "        # Traverse the directory in a DFS manner\n",
    "        for item in os.listdir(current_folder):\n",
    "            item_path = os.path.join(current_folder, item)\n",
    "            if os.path.isdir(item_path):\n",
    "                # Continue DFS if it's a directory\n",
    "                dfs_search_and_copy(item_path, os.path.join(relative_path, item))\n",
    "            elif item.lower().endswith('.jpg'):\n",
    "                # Get the direction folder name from the relative path\n",
    "                direction_folder = relative_path.split(os.sep)[0]\n",
    "                dest_folder = os.path.join(destination_folder, direction_folder)\n",
    "                \n",
    "                # Create the destination direction folder if it doesn't exist\n",
    "                if not os.path.exists(dest_folder):\n",
    "                    os.makedirs(dest_folder)\n",
    "                \n",
    "                # Copy the image to the corresponding direction folder\n",
    "                shutil.copy(item_path, os.path.join(dest_folder, item))\n",
    "\n",
    "    # Start the DFS from the source folder\n",
    "    dfs_search_and_copy(source_folder)\n"
   ]
  },
  {
   "cell_type": "code",
   "execution_count": 2,
   "metadata": {},
   "outputs": [],
   "source": [
    "# Example usage\n",
    "source_folder = \"doppelgangers/images/train_set_noflip/Arc_de_Triomphe_du_Carrousel_by_angle\"\n",
    "destination_folder = \"Arc_de_T\"\n",
    "organize_images(source_folder, destination_folder)"
   ]
  },
  {
   "cell_type": "markdown",
   "metadata": {},
   "source": [
    "# Now randomly create matches of 2 images and create a image pairs dataset"
   ]
  },
  {
   "cell_type": "code",
   "execution_count": 3,
   "metadata": {},
   "outputs": [],
   "source": [
    "import os\n",
    "import random\n",
    "import pandas as pd\n",
    "\n",
    "def create_unique_image_pairs_dataset(folder_path, output_csv, num_pairs):\n",
    "    # Step 1: Collect images grouped by direction\n",
    "    direction_images = {}\n",
    "    for direction in os.listdir(folder_path):\n",
    "        direction_path = os.path.join(folder_path, direction)\n",
    "        if os.path.isdir(direction_path):\n",
    "            images = [\n",
    "                os.path.join(direction_path, img)\n",
    "                for img in os.listdir(direction_path)\n",
    "                if img.lower().endswith(\".jpg\")\n",
    "            ]\n",
    "            direction_images[direction] = images\n",
    "\n",
    "    # Step 2: Flatten image paths for easier random selection\n",
    "    all_images = [(img, direction) for direction, imgs in direction_images.items() for img in imgs]\n",
    "    \n",
    "    # Step 3: Generate unique pairs and labels\n",
    "    data = []\n",
    "    seen_pairs = set()\n",
    "    attempts = 0  # To prevent infinite loops if num_pairs exceeds possibilities\n",
    "\n",
    "    while len(data) < num_pairs and attempts < num_pairs * 10:\n",
    "        img1, dir1 = random.choice(all_images)\n",
    "        img2, dir2 = random.choice(all_images)\n",
    "\n",
    "        # Ensure img1 != img2 and the pair is unique\n",
    "        if img1 != img2:\n",
    "            pair = tuple(sorted((img1, img2)))  # Sort to avoid (img1, img2) vs (img2, img1)\n",
    "            if pair not in seen_pairs:\n",
    "                seen_pairs.add(pair)\n",
    "                label = dir1 == dir2  # True if from the same direction, else False\n",
    "                data.append({\"Image1\": img1, \"Image2\": img2, \"Label\": label})\n",
    "        \n",
    "        attempts += 1  # To keep track of how many attempts were made to form unique pairs\n",
    "\n",
    "    if attempts >= num_pairs * 10:\n",
    "        print(\"Warning: Could not generate the desired number of unique pairs.\")\n",
    "\n",
    "    # Step 4: Save to CSV\n",
    "    df = pd.DataFrame(data)\n",
    "    df.to_csv(output_csv, index=False)\n",
    "    print(f\"Dataset saved to {output_csv} with {len(data)} pairs.\")\n",
    "\n",
    "    return df\n"
   ]
  },
  {
   "cell_type": "code",
   "execution_count": 5,
   "metadata": {},
   "outputs": [
    {
     "name": "stdout",
     "output_type": "stream",
     "text": [
      "Dataset saved to Arc_de_T_pairs.csv with 10000 pairs.\n"
     ]
    }
   ],
   "source": [
    "# Example usage\n",
    "folder_path = \"Arc_de_T\"\n",
    "output_csv = \"Arc_de_T_pairs.csv\"\n",
    "num_pairs = 10000  # Number of random pairs to generate\n",
    "df = create_unique_image_pairs_dataset(folder_path, output_csv, num_pairs)"
   ]
  },
  {
   "cell_type": "code",
   "execution_count": 6,
   "metadata": {},
   "outputs": [
    {
     "data": {
      "text/html": [
       "<div>\n",
       "<style scoped>\n",
       "    .dataframe tbody tr th:only-of-type {\n",
       "        vertical-align: middle;\n",
       "    }\n",
       "\n",
       "    .dataframe tbody tr th {\n",
       "        vertical-align: top;\n",
       "    }\n",
       "\n",
       "    .dataframe thead th {\n",
       "        text-align: right;\n",
       "    }\n",
       "</style>\n",
       "<table border=\"1\" class=\"dataframe\">\n",
       "  <thead>\n",
       "    <tr style=\"text-align: right;\">\n",
       "      <th></th>\n",
       "      <th>Image1</th>\n",
       "      <th>Image2</th>\n",
       "      <th>Label</th>\n",
       "    </tr>\n",
       "  </thead>\n",
       "  <tbody>\n",
       "    <tr>\n",
       "      <th>0</th>\n",
       "      <td>Arc_de_T\\front_right\\L'Histoire and Arc de Tri...</td>\n",
       "      <td>Arc_de_T\\front_left\\Carrousel (32579996374).jpg</td>\n",
       "      <td>False</td>\n",
       "    </tr>\n",
       "    <tr>\n",
       "      <th>1</th>\n",
       "      <td>Arc_de_T\\front_right\\Paris 238.jpg</td>\n",
       "      <td>Arc_de_T\\front_left\\Arc de Triomphe du Carrous...</td>\n",
       "      <td>False</td>\n",
       "    </tr>\n",
       "    <tr>\n",
       "      <th>2</th>\n",
       "      <td>Arc_de_T\\back\\Street vendor, Jardin des Tuiler...</td>\n",
       "      <td>Arc_de_T\\front\\Paris Arc de Triomphe du Carrou...</td>\n",
       "      <td>False</td>\n",
       "    </tr>\n",
       "    <tr>\n",
       "      <th>3</th>\n",
       "      <td>Arc_de_T\\right\\Paris - Arc de Triomphe du Carr...</td>\n",
       "      <td>Arc_de_T\\front_left\\Arc de Triomphe du Carrous...</td>\n",
       "      <td>False</td>\n",
       "    </tr>\n",
       "    <tr>\n",
       "      <th>4</th>\n",
       "      <td>Arc_de_T\\front_left\\Achille Quinet, Arc du Car...</td>\n",
       "      <td>Arc_de_T\\front_left\\Paris Arc de Triomphe du C...</td>\n",
       "      <td>True</td>\n",
       "    </tr>\n",
       "  </tbody>\n",
       "</table>\n",
       "</div>"
      ],
      "text/plain": [
       "                                              Image1  \\\n",
       "0  Arc_de_T\\front_right\\L'Histoire and Arc de Tri...   \n",
       "1                 Arc_de_T\\front_right\\Paris 238.jpg   \n",
       "2  Arc_de_T\\back\\Street vendor, Jardin des Tuiler...   \n",
       "3  Arc_de_T\\right\\Paris - Arc de Triomphe du Carr...   \n",
       "4  Arc_de_T\\front_left\\Achille Quinet, Arc du Car...   \n",
       "\n",
       "                                              Image2  Label  \n",
       "0    Arc_de_T\\front_left\\Carrousel (32579996374).jpg  False  \n",
       "1  Arc_de_T\\front_left\\Arc de Triomphe du Carrous...  False  \n",
       "2  Arc_de_T\\front\\Paris Arc de Triomphe du Carrou...  False  \n",
       "3  Arc_de_T\\front_left\\Arc de Triomphe du Carrous...  False  \n",
       "4  Arc_de_T\\front_left\\Paris Arc de Triomphe du C...   True  "
      ]
     },
     "execution_count": 6,
     "metadata": {},
     "output_type": "execute_result"
    }
   ],
   "source": [
    "df.head()"
   ]
  },
  {
   "cell_type": "code",
   "execution_count": 7,
   "metadata": {},
   "outputs": [
    {
     "name": "stdout",
     "output_type": "stream",
     "text": [
      "Label Distribution:\n",
      "True: 2530 (25.30%)\n",
      "False: 7470 (74.70%)\n"
     ]
    }
   ],
   "source": [
    "def compute_label_ratio(df):\n",
    "    # Compute counts for each label\n",
    "    label_counts = df['Label'].value_counts()\n",
    "    \n",
    "    # Compute ratio\n",
    "    total = label_counts.sum()\n",
    "    true_ratio = label_counts.get(True, 0) / total\n",
    "    false_ratio = label_counts.get(False, 0) / total\n",
    "    \n",
    "    print(f\"Label Distribution:\")\n",
    "    print(f\"True: {label_counts.get(True, 0)} ({true_ratio:.2%})\")\n",
    "    print(f\"False: {label_counts.get(False, 0)} ({false_ratio:.2%})\")\n",
    "\n",
    "compute_label_ratio(df)"
   ]
  },
  {
   "cell_type": "markdown",
   "metadata": {},
   "source": [
    "# Get smaller portion of the data. 10k is too much "
   ]
  },
  {
   "cell_type": "code",
   "execution_count": 1,
   "metadata": {},
   "outputs": [],
   "source": [
    "import pandas as pd\n",
    "\n",
    "def sample_data(df, total_samples, true_ratio=1/3):\n",
    "    \"\"\"\n",
    "    Samples a DataFrame with a specific ratio of True and False labels.\n",
    "    \n",
    "    Parameters:\n",
    "    - df: pandas DataFrame containing 'img1', 'img2', and 'Label' columns.\n",
    "    - total_samples: Total number of samples to return.\n",
    "    - true_ratio: The ratio of True labels in the sample (default is 1/3).\n",
    "    \n",
    "    Returns:\n",
    "    - A pandas DataFrame with the sampled data.\n",
    "    \"\"\"\n",
    "    # Calculate the number of True and False labels based on the desired ratio\n",
    "    num_true = int(total_samples * true_ratio)\n",
    "    num_false = total_samples - num_true\n",
    "\n",
    "    # Separate the DataFrame into True and False labels\n",
    "    true_df = df[df['Label'] == True]\n",
    "    false_df = df[df['Label'] == False]\n",
    "\n",
    "    # Sample the required number of True and False labels\n",
    "    sampled_true = true_df.sample(n=num_true, random_state=42)\n",
    "    sampled_false = false_df.sample(n=num_false, random_state=42)\n",
    "\n",
    "    # Combine the sampled DataFrames\n",
    "    sampled_df = pd.concat([sampled_true, sampled_false])\n",
    "\n",
    "    # Shuffle the sampled data to mix True and False labels\n",
    "    sampled_df = sampled_df.sample(frac=1, random_state=42).reset_index(drop=True)\n",
    "\n",
    "    return sampled_df\n",
    "\n",
    "# Example usage:\n",
    "# Load your CSV into a DataFrame\n",
    "df = pd.read_csv('Arc_de_T_pairs.csv')\n",
    "\n",
    "# Sample 1000 samples with a 1/3 true ratio\n",
    "sampled_data = sample_data(df, total_samples=6000, true_ratio=1/3)\n",
    "\n",
    "# Display the sampled data\n",
    "sampled_data.to_csv(\"Arc_de_T_6k.csv\", index=False)"
   ]
  },
  {
   "cell_type": "code",
   "execution_count": null,
   "metadata": {},
   "outputs": [],
   "source": []
  }
 ],
 "metadata": {
  "kernelspec": {
   "display_name": "dinov2_env",
   "language": "python",
   "name": "python3"
  },
  "language_info": {
   "codemirror_mode": {
    "name": "ipython",
    "version": 3
   },
   "file_extension": ".py",
   "mimetype": "text/x-python",
   "name": "python",
   "nbconvert_exporter": "python",
   "pygments_lexer": "ipython3",
   "version": "3.10.15"
  }
 },
 "nbformat": 4,
 "nbformat_minor": 2
}
